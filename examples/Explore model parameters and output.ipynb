{
 "cells": [
  {
   "cell_type": "code",
   "execution_count": 1,
   "metadata": {
    "collapsed": true
   },
   "outputs": [],
   "source": [
    "import theano\n",
    "import numpy as np\n",
    "import sys\n",
    "\n",
    "%matplotlib inline\n",
    "import matplotlib.pyplot as plt"
   ]
  },
  {
   "cell_type": "markdown",
   "metadata": {},
   "source": [
    "In this notebook we would like to provide a quick tutorial for the code discussed in:\n",
    "\n",
    "Riesselman, A.J.+, Ingraham, J.B.+, and Marks, D.S., 2017. Deep generative models of genetic variation capture mutation effects. arXiv preprint arXiv:1712.06527.\n",
    "\n",
    "We will walk through the basic functions of loading up a model, predicting the effects of mutations, and obtaining the latent variables for sequences in the dataset. Since model training is computationally expensive and is best suited for a GPU-enabled compute cluster, executables for the SVI and MLE version of the code are available."
   ]
  },
  {
   "cell_type": "markdown",
   "metadata": {},
   "source": [
    "# Loading the model"
   ]
  },
  {
   "cell_type": "code",
   "execution_count": 2,
   "metadata": {
    "collapsed": false
   },
   "outputs": [],
   "source": [
    "sys.path.insert(0, \"../DeepSequence\")\n",
    "\n",
    "import model\n",
    "import helper\n",
    "import train"
   ]
  },
  {
   "cell_type": "markdown",
   "metadata": {},
   "source": [
    "First let's load up a model. We don't have to calculate sequence weights here because we are not training a model and this can be slow on the CPU. "
   ]
  },
  {
   "cell_type": "code",
   "execution_count": 3,
   "metadata": {
    "collapsed": false
   },
   "outputs": [
    {
     "name": "stdout",
     "output_type": "stream",
     "text": [
      "Encoding sequences\n",
      "Neff = 8355.0\n",
      "Data Shape = (8355, 253, 20)\n",
      "Model built\n"
     ]
    }
   ],
   "source": [
    "data_params = {\"dataset\":\"BLAT_ECOLX\"}\n",
    "\n",
    "data_helper = helper.DataHelper(\n",
    "                dataset=data_params[\"dataset\"],\n",
    "                working_dir=\".\",\n",
    "                calc_weights=False\n",
    "                )\n",
    "\n",
    "model_params = {\n",
    "        \"batch_size\"        :   100,\n",
    "        \"encode_dim_zero\"   :   1500,\n",
    "        \"encode_dim_one\"    :   1500,\n",
    "        \"decode_dim_zero\"   :   100,\n",
    "        \"decode_dim_one\"    :   500,\n",
    "        \"n_patterns\"        :   4,\n",
    "        \"n_latent\"          :   2,\n",
    "        \"logit_p\"           :   0.001,\n",
    "        \"sparsity\"          :   \"logit\",\n",
    "        \"encode_nonlin\"     :   \"relu\",\n",
    "        \"decode_nonlin\"     :   \"relu\",\n",
    "        \"final_decode_nonlin\":  \"sigmoid\",\n",
    "        \"output_bias\"       :   True,\n",
    "        \"final_pwm_scale\"   :   True,\n",
    "        \"conv_pat\"          :   True,\n",
    "        \"d_c_size\"          :   40\n",
    "        }\n",
    "\n",
    "vae_model   = model.VariationalAutoencoder(data_helper,\n",
    "    batch_size              =   model_params[\"batch_size\"],\n",
    "    encoder_architecture    =   [model_params[\"encode_dim_zero\"],\n",
    "                                model_params[\"encode_dim_one\"]],\n",
    "    decoder_architecture    =   [model_params[\"decode_dim_zero\"],\n",
    "                                model_params[\"decode_dim_one\"]],\n",
    "    n_latent                =   model_params[\"n_latent\"],\n",
    "    n_patterns              =   model_params[\"n_patterns\"],\n",
    "    convolve_patterns       =   model_params[\"conv_pat\"],\n",
    "    conv_decoder_size       =   model_params[\"d_c_size\"],\n",
    "    logit_p                 =   model_params[\"logit_p\"],\n",
    "    sparsity                =   model_params[\"sparsity\"],\n",
    "    encode_nonlinearity_type       =   model_params[\"encode_nonlin\"],\n",
    "    decode_nonlinearity_type       =   model_params[\"decode_nonlin\"],\n",
    "    final_decode_nonlinearity      =   model_params[\"final_decode_nonlin\"],\n",
    "    output_bias             =   model_params[\"output_bias\"],\n",
    "    final_pwm_scale         =   model_params[\"final_pwm_scale\"],\n",
    "    working_dir             =   \".\")\n",
    "\n",
    "print (\"Model built\")"
   ]
  },
  {
   "cell_type": "markdown",
   "metadata": {},
   "source": [
    "Load up the parameters of a pretrained model in the 'params' folder."
   ]
  },
  {
   "cell_type": "code",
   "execution_count": 4,
   "metadata": {
    "collapsed": false
   },
   "outputs": [
    {
     "name": "stdout",
     "output_type": "stream",
     "text": [
      "Parameters loaded\n"
     ]
    }
   ],
   "source": [
    "file_prefix = \"vae_output_encoder-1500-1500_Nlatent-30_decoder-100-500_dataset-amp_2500_log_fix-_theta-0.2_batch_s-100_conv_pat-True_d_c_size-40_fdn-sigmoid_fps-True_logit_p-0.001_n_pat-4_o_bias-True_r_seed-5_sparsity-logit_wu-0.0\"\n",
    "\n",
    "vae_model.load_parameters(file_prefix=file_prefix)\n",
    "\n",
    "print (\"Parameters loaded\")"
   ]
  },
  {
   "cell_type": "markdown",
   "metadata": {},
   "source": [
    "Print the name, location, and sequence of the focus sequence of the alignment:"
   ]
  },
  {
   "cell_type": "code",
   "execution_count": 5,
   "metadata": {
    "collapsed": false
   },
   "outputs": [
    {
     "name": "stdout",
     "output_type": "stream",
     "text": [
      ">BLAT_ECOLX/24-286\n",
      "24-286\n",
      "hpetlVKVKDAEDQLGARVGYIELDLNSGKILeSFRPEERFPMMSTFKVLLCGAVLSRVDAGQEQLGRRIHYSQNDLVEYSPVTEKHLTDGMTVRELCSAAITMSDNTAANLLLTTIGGPKELTAFLHNMGDHVTRLDRWEPELNEAIPNDERDTTMPAAMATTLRKLLTGELLTLASRQQLIDWMEADKVAGPLLRSALPAGWFIADKSGAGErGSRGIIAALGPDGKPSRIVVIYTTGSQATMDERNRQIAEIGASLIkhw\n"
     ]
    }
   ],
   "source": [
    "print (data_helper.focus_seq_name)\n",
    "print (str(data_helper.focus_start_loc)+\"-\"+str(data_helper.focus_stop_loc))\n",
    "print (data_helper.focus_seq)"
   ]
  },
  {
   "cell_type": "markdown",
   "metadata": {},
   "source": [
    "However, we remove lowercase letters from the focus sequences before training because columns of the alignment in those positions have little amino acid coverage in them:"
   ]
  },
  {
   "cell_type": "code",
   "execution_count": 6,
   "metadata": {
    "collapsed": false
   },
   "outputs": [
    {
     "name": "stdout",
     "output_type": "stream",
     "text": [
      "VKVKDAEDQLGARVGYIELDLNSGKILSFRPEERFPMMSTFKVLLCGAVLSRVDAGQEQLGRRIHYSQNDLVEYSPVTEKHLTDGMTVRELCSAAITMSDNTAANLLLTTIGGPKELTAFLHNMGDHVTRLDRWEPELNEAIPNDERDTTMPAAMATTLRKLLTGELLTLASRQQLIDWMEADKVAGPLLRSALPAGWFIADKSGAGEGSRGIIAALGPDGKPSRIVVIYTTGSQATMDERNRQIAEIGASLI\n"
     ]
    }
   ],
   "source": [
    "print (\"\".join(data_helper.focus_seq_trimmed))"
   ]
  },
  {
   "cell_type": "markdown",
   "metadata": {},
   "source": [
    "# Model functions"
   ]
  },
  {
   "cell_type": "markdown",
   "metadata": {},
   "source": [
    "Let's get the latent variables for that sequence of the model. This model has a 30 dimensional latent representation whose prior is a diagonal Gaussian."
   ]
  },
  {
   "cell_type": "code",
   "execution_count": 7,
   "metadata": {
    "collapsed": false
   },
   "outputs": [
    {
     "name": "stdout",
     "output_type": "stream",
     "text": [
      "mu:\n",
      "[-0.0467364  -0.00876267 -0.01259878 -0.02465395  0.01402996  0.01595688\n",
      "  0.06496335  0.00301787  0.02905439 -1.49900055 -0.23235589  0.27315212\n",
      "  0.00694647 -0.01243441 -0.00626889 -0.15998059 -0.04428625 -1.06948749\n",
      "  2.45640981  0.04433935  0.06063476  0.01699242  0.02461767 -0.04132388\n",
      "  0.04005286  0.05231199 -0.00557423  0.02440171 -0.01919557 -1.30247023]\n",
      "\n",
      "log sigma:\n",
      "[ 0.02269554  0.01490107  0.0242448   0.02028344  0.01610491  0.02284766\n",
      "  0.06471057  0.04549785 -0.00498715 -1.96205697 -1.96771655 -2.1558796\n",
      "  0.03802201  0.05420063  0.02202471 -0.20421001  0.03626581 -2.1786715\n",
      " -2.15794638  0.00914391  0.0096762   0.00272555  0.04566289  0.03119208\n",
      "  0.02526869  0.01392488  0.03607735  0.06530051  0.03895306 -2.32025426]\n"
     ]
    }
   ],
   "source": [
    "focus_seq_one_hot = np.expand_dims(data_helper.one_hot_3D(data_helper.focus_seq_trimmed),axis=0)\n",
    "mu_blat, log_sigma_blat = vae_model.recognize(focus_seq_one_hot)\n",
    "print (\"mu:\")\n",
    "print (mu_blat[0])\n",
    "print (\"\\nlog sigma:\")\n",
    "print (log_sigma_blat[0])"
   ]
  },
  {
   "cell_type": "markdown",
   "metadata": {},
   "source": [
    "We can also sample from this model:"
   ]
  },
  {
   "cell_type": "code",
   "execution_count": 8,
   "metadata": {
    "collapsed": false
   },
   "outputs": [
    {
     "name": "stdout",
     "output_type": "stream",
     "text": [
      "z:\n",
      "[ 1.23824058 -0.55476865 -0.11949985  0.65899501 -0.70560614  1.03498715\n",
      "  0.14228214 -0.69302503  0.96147019 -1.51885075 -0.12075319  0.3030073\n",
      "  1.37965293  1.2016533  -0.10541721 -0.5787318   0.59332843 -1.07115399\n",
      "  2.22658665  1.27131978 -0.73471772  0.21237746  0.58999158 -0.40737377\n",
      " -0.55413066  1.87899219  0.71873826 -1.47029659 -0.14475472 -1.19356352]\n"
     ]
    }
   ],
   "source": [
    "z_blat = vae_model.encode(focus_seq_one_hot)\n",
    "print (\"z:\")\n",
    "print (z_blat[0])"
   ]
  },
  {
   "cell_type": "markdown",
   "metadata": {},
   "source": [
    "And then generate a sample distribution around that sequence via the sampled latent variable. The \"reorder_alphabet\" label is the amino acid alphabet roughly reordered by biochemical properties."
   ]
  },
  {
   "cell_type": "code",
   "execution_count": 17,
   "metadata": {
    "collapsed": false
   },
   "outputs": [
    {
     "data": {
      "image/png": "[encoded data removed]",
      "text/plain": [
       "<matplotlib.figure.Figure at 0x107e6c390>"
      ]
     },
     "metadata": {},
     "output_type": "display_data"
    }
   ],
   "source": [
    "seq_reconstruct = vae_model.decode(z_blat)\n",
    "plt.figure(figsize=(35,10))\n",
    "plt.imshow(seq_reconstruct[0].T,cmap=plt.get_cmap(\"Blues\"))\n",
    "ax = plt.gca()\n",
    "ax.set_yticks(np.arange(len(data_helper.reorder_alphabet)))\n",
    "ax.set_yticklabels(list(data_helper.reorder_alphabet))\n",
    "plt.show()"
   ]
  },
  {
   "cell_type": "markdown",
   "metadata": {},
   "source": [
    "# Mutation effect prediction"
   ]
  },
  {
   "cell_type": "markdown",
   "metadata": {},
   "source": [
    "Mutation effect prediction helper functions are always with respect to the focus sequence of the alignment. We can ask for a prediction of mutation effect individually.\n",
    "\n",
    "For reliable mutation effect prediction results, we recommend taking 500-2000 samples from the model (with the N_pred_iterations parameter).\n",
    "\n",
    "We can predict the effects of single, double, triple mutants, etc. Mutations are organized as a list of tuples, where the tuples are (uniprot position, wt amino acid, mutant amino acid)."
   ]
  },
  {
   "cell_type": "code",
   "execution_count": 10,
   "metadata": {
    "collapsed": false
   },
   "outputs": [
    {
     "name": "stdout",
     "output_type": "stream",
     "text": [
      "-10.6103577992\n"
     ]
    }
   ],
   "source": [
    "print (data_helper.delta_elbo(vae_model,[(182,\"M\",\"T\")], N_pred_iterations=50))"
   ]
  },
  {
   "cell_type": "code",
   "execution_count": 11,
   "metadata": {
    "collapsed": false
   },
   "outputs": [
    {
     "name": "stdout",
     "output_type": "stream",
     "text": [
      "-17.0729389925\n"
     ]
    }
   ],
   "source": [
    "print (data_helper.delta_elbo(vae_model,[(182,\"M\",\"T\"), (42,\"A\",\"G\")], N_pred_iterations=50))"
   ]
  },
  {
   "cell_type": "code",
   "execution_count": 12,
   "metadata": {
    "collapsed": false
   },
   "outputs": [
    {
     "name": "stdout",
     "output_type": "stream",
     "text": [
      "-23.3313822241\n"
     ]
    }
   ],
   "source": [
    "print (data_helper.delta_elbo(vae_model,[(182,\"M\",\"T\"), (42,\"A\",\"G\"), (104,\"E\",\"K\")], N_pred_iterations=50))"
   ]
  },
  {
   "cell_type": "markdown",
   "metadata": {},
   "source": [
    "We can predict the effects of mutations for all single mutations. This and the below function are preferred because they can take advantages of speed-ups from minibatching the mutation data."
   ]
  },
  {
   "cell_type": "code",
   "execution_count": 13,
   "metadata": {
    "collapsed": true
   },
   "outputs": [],
   "source": [
    "mutant_name_list, delta_elbos = data_helper.single_mutant_matrix(vae_model, N_pred_iterations=50)"
   ]
  },
  {
   "cell_type": "code",
   "execution_count": 14,
   "metadata": {
    "collapsed": false
   },
   "outputs": [
    {
     "name": "stdout",
     "output_type": "stream",
     "text": [
      "('V29A', 1.9106364979227521)\n"
     ]
    }
   ],
   "source": [
    "print (mutant_name_list[0], delta_elbos[0])"
   ]
  },
  {
   "cell_type": "markdown",
   "metadata": {},
   "source": [
    "We can also predict the effect of mutations from a file in batched mode."
   ]
  },
  {
   "cell_type": "code",
   "execution_count": 15,
   "metadata": {
    "collapsed": false
   },
   "outputs": [],
   "source": [
    "mutant_name_list, delta_elbos = data_helper.custom_mutant_matrix(\"mutations/BLAT_ECOLX_Ranganathan2015_BLAT_ECOLX_hmmerbit_plmc_n5_m30_f50_t0.2_r24-286_id100_b105_vae_results.csv\",\\\n",
    "                                                                 vae_model, N_pred_iterations=50)"
   ]
  },
  {
   "cell_type": "code",
   "execution_count": 16,
   "metadata": {
    "collapsed": false
   },
   "outputs": [
    {
     "name": "stdout",
     "output_type": "stream",
     "text": [
      "('V29Q', 4.534719118091829)\n"
     ]
    }
   ],
   "source": [
    "print (mutant_name_list[12], delta_elbos[12])"
   ]
  },
  {
   "cell_type": "code",
   "execution_count": null,
   "metadata": {
    "collapsed": true
   },
   "outputs": [],
   "source": []
  }
 ],
 "metadata": {
  "kernelspec": {
   "display_name": "Python 2",
   "language": "python",
   "name": "python2"
  },
  "language_info": {
   "codemirror_mode": {
    "name": "ipython",
    "version": 2
   },
   "file_extension": ".py",
   "mimetype": "text/x-python",
   "name": "python",
   "nbconvert_exporter": "python",
   "pygments_lexer": "ipython2",
   "version": "2.7.13"
  }
 },
 "nbformat": 4,
 "nbformat_minor": 2
}
